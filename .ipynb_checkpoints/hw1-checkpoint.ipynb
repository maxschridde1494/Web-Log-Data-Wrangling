{
 "cells": [
  {
   "cell_type": "markdown",
   "metadata": {},
   "source": [
    "# HW 1: Web log data wrangling\n",
    "\n",
    "Please also refer to the HW1 [README](https://github.com/berkeley-cs186/course/tree/master/hw1) for the full assignment details.\n",
    "\n",
    "--------------------------------------------\n",
    "\n",
    "## Introduction\n",
    "\n",
    "### Jupyter Notebooks w/ iPython\n",
    "\n",
    "Jupyter Notebook is a web-based interactive computing system, which allow you to mix code and rich-text in one document. A notebook consists of a sequence of cells, which can be run using the \"Play\" button in the toolbar or by hitting Shift-Enter on the keyboard.\n",
    "\n",
    "In HW1, you will primarily use code cells with iPython code. You can find a tour and pointers to more documentation in the `Help` menu above.\n"
   ]
  },
  {
   "cell_type": "markdown",
   "metadata": {},
   "source": [
    "### The dataset\n",
    "\n",
    "Let's take a look at the data. These web logs were produced by an Apache web server. Each line represents a request to the server that originally hosted an early viral video from 2002."
   ]
  },
  {
   "cell_type": "code",
   "execution_count": 1,
   "metadata": {
    "collapsed": false
   },
   "outputs": [],
   "source": [
    "import os\n",
    "DATA_DIR = os.environ['MASTERDIR'] + '/sp16/hw1/'"
   ]
  },
  {
   "cell_type": "code",
   "execution_count": 2,
   "metadata": {
    "collapsed": false
   },
   "outputs": [
    {
     "name": "stdout",
     "output_type": "stream",
     "text": [
      "62.172.72.131 - - [02/Jan/2003:02:06:41 -0700] \"GET /random/html/riaa_hacked/ HTTP/1.0\" 200 10564 \"-\" \"Mozilla/4.0 (compatible; MSIE 5.5; Windows NT 4.0; WWP 17 August 2001)\"\n",
      "\n"
     ]
    }
   ],
   "source": [
    "with open(DATA_DIR + \"web_log_small.log\") as log_file:\n",
    "    sample_line = log_file.readline()\n",
    "\n",
    "print sample_line"
   ]
  },
  {
   "cell_type": "markdown",
   "metadata": {},
   "source": [
    "This format is called \"Combined Log Format\", and you can find a description of each of the fields [here](https://httpd.apache.org/docs/1.3/logs.html#common)."
   ]
  },
  {
   "cell_type": "markdown",
   "metadata": {},
   "source": [
    "Here's another way to view the first line of the dataset. We can run a shell command using [`! operator`](https://ipython.org/ipython-doc/3/interactive/reference.html#system-shell-access) (a feature of iPython). "
   ]
  },
  {
   "cell_type": "code",
   "execution_count": 3,
   "metadata": {
    "collapsed": false
   },
   "outputs": [
    {
     "name": "stdout",
     "output_type": "stream",
     "text": [
      "62.172.72.131 - - [02/Jan/2003:02:06:41 -0700] \"GET /random/html/riaa_hacked/ HTTP/1.0\" 200 10564 \"-\" \"Mozilla/4.0 (compatible; MSIE 5.5; Windows NT 4.0; WWP 17 August 2001)\"\r\n"
     ]
    }
   ],
   "source": [
    "!head -1 {DATA_DIR}web_log_small.log"
   ]
  },
  {
   "cell_type": "markdown",
   "metadata": {
    "collapsed": true
   },
   "source": [
    "-----------\n",
    "\n",
    "## Your Assignment\n",
    "\n",
    "Fill in the `process_logs` function below to complete the specification in the README. You can add any helper functions you need. You may use any of Python 2's standard libraries available on the instructional machines. You cannot use (and shouldn't need) any external libraries.\n",
    "\n",
    "Remember, you need to ensure that your code will scale to datasets that are bigger than memory -- no matter how large or skewed the dataset or how much memory is on your test machine.  Avoid keeping data structures of unbounded size in memory, since it **won't** scale, e.g.: \n",
    "\n",
    "- having a list of every line in the dataset\n",
    "- having a dictionary with an key for every IP address\n",
    "\n",
    "Finally, to ensure proper grading, please make sure all of your log processing code (including `import` statements) is between the **BEGIN/END STUDENT CODE** cells. Do not modify or remove either of these cells."
   ]
  },
  {
   "cell_type": "markdown",
   "metadata": {},
   "source": [
    "### * BEGIN STUDENT CODE *"
   ]
  },
  {
   "cell_type": "code",
   "execution_count": 4,
   "metadata": {
    "collapsed": false
   },
   "outputs": [],
   "source": [
    "import apachetime\n",
    "import time\n",
    "\n",
    "def apache_ts_to_unixtime(ts):\n",
    "    \"\"\"\n",
    "    @param ts - a Apache timestamp string, e.g. '[02/Jan/2003:02:06:41 -0700]'\n",
    "    @returns int - a Unix timestamp in seconds\n",
    "    \"\"\"\n",
    "    dt = apachetime.apachetime(ts)\n",
    "    unixtime = time.mktime(dt.timetuple())\n",
    "    return int(unixtime)"
   ]
  },
  {
   "cell_type": "code",
   "execution_count": 5,
   "metadata": {
    "collapsed": false
   },
   "outputs": [],
   "source": [
    "import csv\n",
    "\n",
    "def process_logs(dataset_iter):\n",
    "    \"\"\"\n",
    "    Processes the input stream, and outputs the CSV files described in the README.    \n",
    "    This is the main entry point for your assignment.\n",
    "    \n",
    "    @param dataset_iter - an iterator of Apache log lines.\n",
    "    \"\"\"\n",
    "    # FIX ME\n",
    "    with open(\"hits.csv\", \"w+\") as hits_file:        \n",
    "        writer = csv.writer(hits_file, lineterminator = '\\n')\n",
    "        writer.writerow([\"ip\", \"timestamp\"])\n",
    "        for i, line in enumerate(dataset_iter):            \n",
    "            logSplitList = line.split(\" \")\n",
    "            ipAddress = logSplitList[0]\n",
    "            unixTimeStamp = apache_ts_to_unixtime(logSplitList[3] + \" \" + logSplitList[4])\n",
    "            writer.writerow([ipAddress, str(unixTimeStamp)])\n",
    "    \n",
    "    !sort -k1,1 -k2,2n -t',' hits.csv > intermediate.csv\n",
    "    \n",
    "    with open(\"intermediate.csv\", \"r\") as intermediate_file:\n",
    "        with open (\"sessions.csv\", \"w+\") as sessions_file:\n",
    "            reader = csv.reader(intermediate_file)\n",
    "            writer = csv.writer(sessions_file, lineterminator = '\\n')\n",
    "            writer.writerow([\"ip\", \"session_length\", \"num_hits\"])\n",
    "            lastIp = \"\"\n",
    "            lastTimeStamp = 0\n",
    "            first_hit = 0\n",
    "            num_hits = 1\n",
    "            checkWriteLastLine = False\n",
    "            for row in reader:\n",
    "                currentIp = row[0]\n",
    "                if currentIp == \"ip\":\n",
    "                    continue\n",
    "                currentTimeStamp = int(row[1])\n",
    "                \n",
    "                #same machine\n",
    "                if currentIp == lastIp:\n",
    "                    #same session (within 30 min of last hit)\n",
    "                    if currentTimeStamp - lastTimeStamp <= 1800:\n",
    "                        num_hits += 1\n",
    "                        checkWriteLastLine = False\n",
    "                    else:\n",
    "                        #same machine but start of new session\n",
    "                        writer.writerow([currentIp, str(lastTimeStamp - first_hit), str(num_hits)])\n",
    "                        checkWriteLastLine = True\n",
    "                        num_hits = 1\n",
    "                        first_hit = currentTimeStamp\n",
    "                #new machine\n",
    "                else:\n",
    "                    if lastIp == \"\" and lastTimeStamp == 0:\n",
    "                        first_hit = currentTimeStamp\n",
    "                        num_hits = 1\n",
    "                    else:    \n",
    "                        writer.writerow([lastIp, str(lastTimeStamp - first_hit), str(num_hits)])\n",
    "                        checkWriteLastLine = True\n",
    "                        num_hits = 1\n",
    "                        first_hit = currentTimeStamp\n",
    "\n",
    "\n",
    "                lastIp = currentIp\n",
    "                lastTimeStamp = currentTimeStamp\n",
    "            if checkWriteLastLine == False:\n",
    "                writer.writerow([lastIp, str(lastTimeStamp - first_hit), str(num_hits)])\n",
    "    \n",
    "    \n",
    "    #sort sessions.csv based on session_length\n",
    "    !sort -k2,2n -t',' sessions.csv > intermediate2.csv\n",
    "    \n",
    "    with open(\"intermediate2.csv\", \"r\") as intermediate_file:\n",
    "        with open(\"session_length_plot.csv\", \"wb\") as session_length_plot_file:\n",
    "            reader = csv.reader(intermediate_file)\n",
    "            writer = csv.writer(session_length_plot_file, lineterminator = '\\n')\n",
    "            writer.writerow([\"left\", \"right\", \"count\"])\n",
    "            counter = 0\n",
    "            lowerBound = 0\n",
    "            upperBound = 2\n",
    "            for row in reader:\n",
    "                if row[1] == \"session_length\":\n",
    "                    continue\n",
    "                session_length = int(row[1])\n",
    "                if session_length >= lowerBound and session_length < upperBound:\n",
    "                    #correct range\n",
    "                    counter += 1\n",
    "                else:\n",
    "                    writer.writerow([str(lowerBound), str(upperBound), str(counter)])\n",
    "                    counter = 1\n",
    "                    while upperBound <= session_length:\n",
    "                        lowerBound = upperBound\n",
    "                        upperBound = lowerBound * 2\n",
    "            writer.writerow([str(lowerBound), str(upperBound), str(counter)])"
   ]
  },
  {
   "cell_type": "markdown",
   "metadata": {},
   "source": [
    "### * END STUDENT CODE *\n",
    "\n",
    "------------------------\n"
   ]
  },
  {
   "cell_type": "code",
   "execution_count": 6,
   "metadata": {
    "collapsed": false,
    "scrolled": true
   },
   "outputs": [],
   "source": [
    "def process_logs_small():\n",
    "    \"\"\"\n",
    "    Runs the process_logs function with the small dataset (186 MB).\n",
    "    \"\"\"        \n",
    "    with open(DATA_DIR + \"web_log_small.log\") as log_file:\n",
    "        process_logs(log_file)"
   ]
  },
  {
   "cell_type": "code",
   "execution_count": 7,
   "metadata": {
    "collapsed": false
   },
   "outputs": [
    {
     "name": "stdout",
     "output_type": "stream",
     "text": [
      "left,right,count\n",
      "0,2,76233\n",
      "2,4,6496\n",
      "4,8,5246\n",
      "8,16,9087\n",
      "16,32,13372\n",
      "32,64,14651\n",
      "64,128,16044\n",
      "128,256,23592\n",
      "256,512,15117\n",
      "512,1024,11296\n",
      "1024,2048,8913\n",
      "2048,4096,2689\n",
      "4096,8192,576\n",
      "8192,16384,193\n",
      "16384,32768,117\n",
      "32768,65536,67\n",
      "65536,131072,22\n",
      "131072,262144,2\n",
      "262144,524288,2\n",
      "524288,1048576,1\n",
      "1048576,2097152,1\n",
      "CPU times: user 16.4 s, sys: 577 ms, total: 17 s\n",
      "Wall time: 18.2 s\n"
     ]
    }
   ],
   "source": [
    "%time process_logs_small()"
   ]
  },
  {
   "cell_type": "code",
   "execution_count": 8,
   "metadata": {
    "collapsed": false
   },
   "outputs": [],
   "source": [
    "import zipfile\n",
    "\n",
    "def process_logs_large():\n",
    "    \"\"\"\n",
    "    Runs the process_logs function on the full dataset.  The code below \n",
    "    performs a streaming unzip of the compressed dataset which is (158MB). \n",
    "    This saves the 1.6GB of disk space needed to unzip this file onto disk.\n",
    "    \"\"\"\n",
    "    with zipfile.ZipFile(DATA_DIR + \"web_log_large.zip\") as z:\n",
    "        fname = z.filelist[0].filename\n",
    "        f = z.open(fname)\n",
    "        process_logs(f)\n",
    "        f.close()"
   ]
  },
  {
   "cell_type": "code",
   "execution_count": 9,
   "metadata": {
    "collapsed": false
   },
   "outputs": [
    {
     "name": "stdout",
     "output_type": "stream",
     "text": [
      "left,right,count\n",
      "0,2,1194447\n",
      "2,4,39348\n",
      "4,8,51821\n",
      "8,16,105254\n",
      "16,32,139045\n",
      "32,64,167412\n",
      "64,128,190613\n",
      "128,256,208332\n",
      "256,512,155371\n",
      "512,1024,116568\n",
      "1024,2048,104063\n",
      "2048,4096,33026\n",
      "4096,8192,8630\n",
      "8192,16384,2135\n",
      "16384,32768,927\n",
      "32768,65536,535\n",
      "65536,131072,252\n",
      "131072,262144,84\n",
      "262144,524288,36\n",
      "524288,1048576,14\n",
      "1048576,2097152,3\n",
      "2097152,4194304,3\n",
      "4194304,8388608,1\n",
      "CPU times: user 2min 31s, sys: 3.72 s, total: 2min 35s\n",
      "Wall time: 2min 46s\n"
     ]
    }
   ],
   "source": [
    "%time process_logs_large()"
   ]
  },
  {
   "cell_type": "markdown",
   "metadata": {
    "collapsed": true
   },
   "source": [
    "---------------\n",
    "\n",
    "# Testing"
   ]
  },
  {
   "cell_type": "markdown",
   "metadata": {},
   "source": [
    "As mentioned in the README, we provide reference output only for the small dataset. `diff_outputs()` produces a `.diff` files if there's a difference between your output and the referrence output.\n",
    "\n",
    "If you're unfamiliar with the format of `diff`'s output, you can read about it [here](https://en.wikipedia.org/wiki/Diff_utility#Usage).\n",
    "\n",
    "There are other diff utilities which produce colored/side-by-side output, making it easier to see differences. If you're interested, try:\n",
    "\n",
    "```\n",
    "$ vimdiff hits.csv ~cs186/sp16/hw1/ref_output_small/hits.csv\n",
    "OR\n",
    "$ git diff hits.csv ~cs186/sp16/hw1/ref_output_small/hits.csv\n",
    "```"
   ]
  },
  {
   "cell_type": "code",
   "execution_count": 10,
   "metadata": {
    "collapsed": false
   },
   "outputs": [],
   "source": [
    "import os\n",
    "\n",
    "ref_output_dir = DATA_DIR + \"ref_output_small/\"\n",
    "\n",
    "def _diff_helper(f, unordered=False):\n",
    "    \"\"\"\n",
    "    @param f (str) - filename to diff with reference output\n",
    "    @param unordered (bool) - whether the ordering of the lines matters\n",
    "    \"\"\"\n",
    "    if not os.path.isfile(f):\n",
    "        print \"FAIL - {} does not exist.\".format(f)\n",
    "        return\n",
    "    \n",
    "    if unordered:\n",
    "        tmp1 = !mktemp\n",
    "        tmp1 = tmp1[0]\n",
    "        !sort {f} > {tmp1}\n",
    "        !sort {ref_output_dir + f} | diff {tmp1} - > {f}.diff\n",
    "    else:\n",
    "        !diff {f} {ref_output_dir + f} > {f}.diff\n",
    "    \n",
    "    success = _exit_code == 0\n",
    "    if success:\n",
    "        !rm {f}.diff\n",
    "        print \"PASS - {} matched reference output.\".format(f)\n",
    "    else:\n",
    "        print \"FAIL - {} did not match reference output. See {}.diff.\".format(f, f)\n",
    "        \n",
    "\n",
    "def diff_against_reference():\n",
    "    \"\"\"\n",
    "    Compares the output files in the current directory with the reference output.\n",
    "    If there is a difference, writes a \".diff\" file, e.g. hits.csv.diff.\n",
    "    \"\"\" \n",
    "    _diff_helper(\"hits.csv\")\n",
    "    _diff_helper(\"sessions.csv\", unordered=True)\n",
    "    _diff_helper(\"session_length_plot.csv\")"
   ]
  },
  {
   "cell_type": "code",
   "execution_count": 11,
   "metadata": {
    "collapsed": false
   },
   "outputs": [
    {
     "name": "stdout",
     "output_type": "stream",
     "text": [
      "left,right,count\n",
      "0,2,76233\n",
      "2,4,6496\n",
      "4,8,5246\n",
      "8,16,9087\n",
      "16,32,13372\n",
      "32,64,14651\n",
      "64,128,16044\n",
      "128,256,23592\n",
      "256,512,15117\n",
      "512,1024,11296\n",
      "1024,2048,8913\n",
      "2048,4096,2689\n",
      "4096,8192,576\n",
      "8192,16384,193\n",
      "16384,32768,117\n",
      "32768,65536,67\n",
      "65536,131072,22\n",
      "131072,262144,2\n",
      "262144,524288,2\n",
      "524288,1048576,1\n",
      "1048576,2097152,1\n",
      "PASS - hits.csv matched reference output.\n",
      "PASS - sessions.csv matched reference output.\n",
      "PASS - session_length_plot.csv matched reference output.\n"
     ]
    }
   ],
   "source": [
    "process_logs_small()\n",
    "diff_against_reference()"
   ]
  },
  {
   "cell_type": "markdown",
   "metadata": {},
   "source": [
    "\n",
    "### Testing Memory Usage\n",
    "\n",
    "For additional testing, we've included a script which:\n",
    " - (1) makes sure all of your log processing code is between the BEGIN/END STUDENT CODE CELLS above, so it will work with our autograder\n",
    " - (2) runs your code with a memory cap of 1MB. If you see a `MemoryError`, it's a sign your code is not doing appropriate streaming and/or divide-and-conquer!\n",
    " \n",
    "Make sure to save your notebook (`File > Save and Checkpoint`) before running the next cell."
   ]
  },
  {
   "cell_type": "code",
   "execution_count": 12,
   "metadata": {
    "collapsed": false
   },
   "outputs": [
    {
     "name": "stdout",
     "output_type": "stream",
     "text": [
      "[NbConvertApp] Converting notebook hw1.ipynb to python\n",
      "Running process_logs_large()\n",
      "left,right,count\n",
      "0,2,1194447\n",
      "2,4,39348\n",
      "4,8,51821\n",
      "8,16,105254\n",
      "16,32,139045\n",
      "32,64,167412\n",
      "64,128,190613\n",
      "128,256,208332\n",
      "256,512,155371\n",
      "512,1024,116568\n",
      "1024,2048,104063\n",
      "2048,4096,33026\n",
      "4096,8192,8630\n",
      "8192,16384,2135\n",
      "16384,32768,927\n",
      "32768,65536,535\n",
      "65536,131072,252\n",
      "131072,262144,84\n",
      "262144,524288,36\n",
      "524288,1048576,14\n",
      "1048576,2097152,3\n",
      "2097152,4194304,3\n",
      "4194304,8388608,1\n",
      "Memory Test Done.\n"
     ]
    }
   ],
   "source": [
    "!bash test_memory_usage.sh"
   ]
  },
  {
   "cell_type": "code",
   "execution_count": null,
   "metadata": {
    "collapsed": true
   },
   "outputs": [],
   "source": []
  }
 ],
 "metadata": {
  "kernelspec": {
   "display_name": "Python 2",
   "language": "python",
   "name": "python2"
  },
  "language_info": {
   "codemirror_mode": {
    "name": "ipython",
    "version": 2
   },
   "file_extension": ".py",
   "mimetype": "text/x-python",
   "name": "python",
   "nbconvert_exporter": "python",
   "pygments_lexer": "ipython2",
   "version": "2.7.11"
  }
 },
 "nbformat": 4,
 "nbformat_minor": 0
}
